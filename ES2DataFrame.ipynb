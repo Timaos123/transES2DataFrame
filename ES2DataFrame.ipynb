{
 "cells": [
  {
   "cell_type": "markdown",
   "metadata": {},
   "source": [
    "# 建立ES对象"
   ]
  },
  {
   "cell_type": "code",
   "execution_count": 1,
   "metadata": {},
   "outputs": [],
   "source": [
    "from elasticsearch import Elasticsearch, helpers"
   ]
  },
  {
   "cell_type": "code",
   "execution_count": 2,
   "metadata": {},
   "outputs": [],
   "source": [
    "es_host=\"xxx\"\n",
    "es_user=\"xxx\"\n",
    "es_password=\"xxx\"\n",
    "es = Elasticsearch([es_host], http_auth=(es_user, es_password))"
   ]
  },
  {
   "cell_type": "markdown",
   "metadata": {},
   "source": [
    "# 构造查询语句"
   ]
  },
  {
   "cell_type": "code",
   "execution_count": 3,
   "metadata": {},
   "outputs": [],
   "source": [
    "qbody={\n",
    "      xxx\n",
    "    }\n",
    "\n",
    "scroll_size = 1000\n",
    "\n",
    "query = es.search(index=\"xxx\", body=qbody)\n",
    "res = query['hits']['hits']"
   ]
  },
  {
   "cell_type": "markdown",
   "metadata": {},
   "source": [
    "# 递归获取DataFrame"
   ]
  },
  {
   "cell_type": "markdown",
   "metadata": {},
   "source": [
    "当出现嵌套情况时，使用“.”将上下级包含关系进行衔接，并删除原上级文档所对应的列"
   ]
  },
  {
   "cell_type": "code",
   "execution_count": 4,
   "metadata": {},
   "outputs": [],
   "source": [
    "import pandas as pd\n",
    "\n",
    "def buildDtFromES(res):\n",
    "    resDf=pd.DataFrame(res)\n",
    "    columnList=resDf.columns\n",
    "    for columnItem in columnList:\n",
    "        tmpValList=resDf[columnItem].values.tolist()\n",
    "        tmpTypeCheckList=[type(tmpValItem)==dict for tmpValItem in tmpValList]\n",
    "        if len(tmpTypeCheckList)==sum(tmpTypeCheckList):\n",
    "            tmpDf=buildDtFromES(tmpValList)\n",
    "            tmpColumnList=tmpDf.columns\n",
    "            renameColumnDict=dict((tmpColumnItem,columnItem+\".\"+tmpColumnItem) for tmpColumnItem in tmpColumnList)\n",
    "            tmpDf.rename(renameColumnDict,axis=1,inplace=True)\n",
    "            resDf=pd.concat([resDf,tmpDf],axis=1)\n",
    "            resDf.drop(columnItem,axis=1,inplace=True)\n",
    "    return resDf.copy(deep=True)"
   ]
  },
  {
   "cell_type": "markdown",
   "metadata": {},
   "source": [
    "# 样例展示"
   ]
  },
  {
   "cell_type": "code",
   "execution_count": 9,
   "metadata": {},
   "outputs": [
    {
     "data": {
      "text/html": [
       "<div>\n",
       "<style scoped>\n",
       "    .dataframe tbody tr th:only-of-type {\n",
       "        vertical-align: middle;\n",
       "    }\n",
       "\n",
       "    .dataframe tbody tr th {\n",
       "        vertical-align: top;\n",
       "    }\n",
       "\n",
       "    .dataframe thead th {\n",
       "        text-align: right;\n",
       "    }\n",
       "</style>\n",
       "<table border=\"1\" class=\"dataframe\">\n",
       "  <thead>\n",
       "    <tr style=\"text-align: right;\">\n",
       "      <th></th>\n",
       "      <th>_source.RecruitStaffTypeID</th>\n",
       "    </tr>\n",
       "  </thead>\n",
       "  <tbody>\n",
       "    <tr>\n",
       "      <th>0</th>\n",
       "      <td>2</td>\n",
       "    </tr>\n",
       "    <tr>\n",
       "      <th>1</th>\n",
       "      <td>2</td>\n",
       "    </tr>\n",
       "    <tr>\n",
       "      <th>2</th>\n",
       "      <td>2</td>\n",
       "    </tr>\n",
       "    <tr>\n",
       "      <th>3</th>\n",
       "      <td>2</td>\n",
       "    </tr>\n",
       "    <tr>\n",
       "      <th>4</th>\n",
       "      <td>2</td>\n",
       "    </tr>\n",
       "  </tbody>\n",
       "</table>\n",
       "</div>"
      ],
      "text/plain": [
       "   _source.RecruitStaffTypeID\n",
       "0                           2\n",
       "1                           2\n",
       "2                           2\n",
       "3                           2\n",
       "4                           2"
      ]
     },
     "execution_count": 9,
     "metadata": {},
     "output_type": "execute_result"
    }
   ],
   "source": [
    "buildDtFromES(res).head().iloc[:,10:11]"
   ]
  }
 ],
 "metadata": {
  "kernelspec": {
   "display_name": "Python 3",
   "language": "python",
   "name": "python3"
  },
  "language_info": {
   "codemirror_mode": {
    "name": "ipython",
    "version": 3
   },
   "file_extension": ".py",
   "mimetype": "text/x-python",
   "name": "python",
   "nbconvert_exporter": "python",
   "pygments_lexer": "ipython3",
   "version": "3.7.6"
  }
 },
 "nbformat": 4,
 "nbformat_minor": 4
}
